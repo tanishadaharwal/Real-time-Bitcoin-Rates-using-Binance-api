{
  "nbformat": 4,
  "nbformat_minor": 0,
  "metadata": {
    "colab": {
      "name": "Live Data Script.ipynb",
      "provenance": [],
      "authorship_tag": "ABX9TyPaiyljxpjIVMtk7tSD0a+/",
      "include_colab_link": true
    },
    "kernelspec": {
      "name": "python3",
      "display_name": "Python 3"
    },
    "language_info": {
      "name": "python"
    }
  },
  "cells": [
    {
      "cell_type": "markdown",
      "metadata": {
        "id": "view-in-github",
        "colab_type": "text"
      },
      "source": [
        "<a href=\"https://colab.research.google.com/github/tanishadaharwal/tanishadaharwal/blob/main/Live_Data_Script.ipynb\" target=\"_parent\"><img src=\"https://colab.research.google.com/assets/colab-badge.svg\" alt=\"Open In Colab\"/></a>"
      ]
    },
    {
      "cell_type": "code",
      "source": [
        "pip install python-binance\n"
      ],
      "metadata": {
        "colab": {
          "base_uri": "https://localhost:8080/"
        },
        "id": "O0k1U7BFTdmg",
        "outputId": "2b2c0116-0ac4-4730-ba9f-5933e8845031"
      },
      "execution_count": 35,
      "outputs": [
        {
          "output_type": "stream",
          "name": "stdout",
          "text": [
            "Looking in indexes: https://pypi.org/simple, https://us-python.pkg.dev/colab-wheels/public/simple/\n",
            "Requirement already satisfied: python-binance in /usr/local/lib/python3.7/dist-packages (1.0.16)\n",
            "Requirement already satisfied: requests in /usr/local/lib/python3.7/dist-packages (from python-binance) (2.23.0)\n",
            "Requirement already satisfied: websockets in /usr/local/lib/python3.7/dist-packages (from python-binance) (10.3)\n",
            "Requirement already satisfied: aiohttp in /usr/local/lib/python3.7/dist-packages (from python-binance) (3.8.1)\n",
            "Requirement already satisfied: ujson in /usr/local/lib/python3.7/dist-packages (from python-binance) (5.4.0)\n",
            "Requirement already satisfied: dateparser in /usr/local/lib/python3.7/dist-packages (from python-binance) (1.1.1)\n",
            "Requirement already satisfied: six in /usr/local/lib/python3.7/dist-packages (from python-binance) (1.15.0)\n",
            "Requirement already satisfied: asynctest==0.13.0 in /usr/local/lib/python3.7/dist-packages (from aiohttp->python-binance) (0.13.0)\n",
            "Requirement already satisfied: async-timeout<5.0,>=4.0.0a3 in /usr/local/lib/python3.7/dist-packages (from aiohttp->python-binance) (4.0.2)\n",
            "Requirement already satisfied: typing-extensions>=3.7.4 in /usr/local/lib/python3.7/dist-packages (from aiohttp->python-binance) (4.1.1)\n",
            "Requirement already satisfied: multidict<7.0,>=4.5 in /usr/local/lib/python3.7/dist-packages (from aiohttp->python-binance) (6.0.2)\n",
            "Requirement already satisfied: frozenlist>=1.1.1 in /usr/local/lib/python3.7/dist-packages (from aiohttp->python-binance) (1.3.1)\n",
            "Requirement already satisfied: charset-normalizer<3.0,>=2.0 in /usr/local/lib/python3.7/dist-packages (from aiohttp->python-binance) (2.1.0)\n",
            "Requirement already satisfied: yarl<2.0,>=1.0 in /usr/local/lib/python3.7/dist-packages (from aiohttp->python-binance) (1.8.1)\n",
            "Requirement already satisfied: aiosignal>=1.1.2 in /usr/local/lib/python3.7/dist-packages (from aiohttp->python-binance) (1.2.0)\n",
            "Requirement already satisfied: attrs>=17.3.0 in /usr/local/lib/python3.7/dist-packages (from aiohttp->python-binance) (22.1.0)\n",
            "Requirement already satisfied: idna>=2.0 in /usr/local/lib/python3.7/dist-packages (from yarl<2.0,>=1.0->aiohttp->python-binance) (2.10)\n",
            "Requirement already satisfied: pytz in /usr/local/lib/python3.7/dist-packages (from dateparser->python-binance) (2022.1)\n",
            "Requirement already satisfied: tzlocal in /usr/local/lib/python3.7/dist-packages (from dateparser->python-binance) (1.5.1)\n",
            "Requirement already satisfied: python-dateutil in /usr/local/lib/python3.7/dist-packages (from dateparser->python-binance) (2.8.2)\n",
            "Requirement already satisfied: regex!=2019.02.19,!=2021.8.27,<2022.3.15 in /usr/local/lib/python3.7/dist-packages (from dateparser->python-binance) (2022.3.2)\n",
            "Requirement already satisfied: chardet<4,>=3.0.2 in /usr/local/lib/python3.7/dist-packages (from requests->python-binance) (3.0.4)\n",
            "Requirement already satisfied: certifi>=2017.4.17 in /usr/local/lib/python3.7/dist-packages (from requests->python-binance) (2022.6.15)\n",
            "Requirement already satisfied: urllib3!=1.25.0,!=1.25.1,<1.26,>=1.21.1 in /usr/local/lib/python3.7/dist-packages (from requests->python-binance) (1.24.3)\n"
          ]
        }
      ]
    },
    {
      "cell_type": "code",
      "execution_count": 36,
      "metadata": {
        "id": "u3if1u6SSr7H"
      },
      "outputs": [],
      "source": [
        "import pandas as pd #data cleaning\n",
        "import sqlalchemy #connection to our sql database\n",
        "from binance.client import Client\n",
        "from binance import BinanceSocketManager"
      ]
    },
    {
      "cell_type": "code",
      "source": [
        "api_key = \"\"\n",
        "api_secret = \"\""
      ],
      "metadata": {
        "id": "0L1WV5fDWNy8"
      },
      "execution_count": 37,
      "outputs": []
    },
    {
      "cell_type": "code",
      "source": [
        "client = Client(api_key, api_secret)"
      ],
      "metadata": {
        "id": "Eos1W_GPTZHt"
      },
      "execution_count": 38,
      "outputs": []
    },
    {
      "cell_type": "code",
      "source": [
        "bsm = BinanceSocketManager(client)"
      ],
      "metadata": {
        "id": "FqDDhA61Vpl1"
      },
      "execution_count": 39,
      "outputs": []
    },
    {
      "cell_type": "code",
      "source": [
        "socket = bsm.trade_socket('BTCUSDT')"
      ],
      "metadata": {
        "id": "Rc7EAvjsVacd"
      },
      "execution_count": 40,
      "outputs": []
    },
    {
      "cell_type": "code",
      "source": [
        "def createframe(msg):\n",
        "  df = pd.DataFrame([msg])\n",
        "  df = df.loc[:,['s', 'E','p']]\n",
        "  df.columns = ['Symbol', 'Time', 'Price']\n",
        "  df.Price = df.Price.astype(float)\n",
        "  df.Time = pd.to_datetime(df.Time, unit = 'ms')\n",
        "  return df"
      ],
      "metadata": {
        "id": "zce9yBZgWsmE"
      },
      "execution_count": 41,
      "outputs": []
    },
    {
      "cell_type": "code",
      "source": [
        "engine = sqlalchemy.create_engine('sqlite:///BTCUSDTstream.db')"
      ],
      "metadata": {
        "id": "DIdBUwlsYE8G"
      },
      "execution_count": 42,
      "outputs": []
    },
    {
      "cell_type": "code",
      "source": [
        "while True:\n",
        "  await socket.__aenter__()\n",
        "  msg = await socket.recv()\n",
        "  frame = createframe(msg)\n",
        "  frame.to_sql('BTCUSDT', engine, if_exists = 'append', index = False)\n",
        "  print(frame)"
      ],
      "metadata": {
        "colab": {
          "base_uri": "https://localhost:8080/"
        },
        "id": "WsdnUKnGWaWG",
        "outputId": "11ecf671-f8a9-4412-f980-ff3092faf1c3"
      },
      "execution_count": null,
      "outputs": [
        {
          "output_type": "stream",
          "name": "stdout",
          "text": [
            "    Symbol                    Time     Price\n",
            "0  BTCUSDT 2022-08-15 21:51:44.265  24083.18\n",
            "    Symbol                    Time     Price\n",
            "0  BTCUSDT 2022-08-15 21:51:44.265  24083.16\n",
            "    Symbol                    Time     Price\n",
            "0  BTCUSDT 2022-08-15 21:51:44.265  24083.16\n",
            "    Symbol                    Time     Price\n",
            "0  BTCUSDT 2022-08-15 21:51:44.265  24083.15\n",
            "    Symbol                    Time     Price\n",
            "0  BTCUSDT 2022-08-15 21:51:44.265  24083.14\n",
            "    Symbol                    Time     Price\n",
            "0  BTCUSDT 2022-08-15 21:51:44.285  24083.15\n",
            "    Symbol                    Time     Price\n",
            "0  BTCUSDT 2022-08-15 21:51:44.285  24083.14\n",
            "    Symbol                    Time     Price\n",
            "0  BTCUSDT 2022-08-15 21:51:44.491  24083.65\n",
            "    Symbol                    Time     Price\n",
            "0  BTCUSDT 2022-08-15 21:51:44.491  24083.66\n",
            "    Symbol                    Time     Price\n",
            "0  BTCUSDT 2022-08-15 21:51:44.593  24083.64\n",
            "    Symbol                    Time     Price\n",
            "0  BTCUSDT 2022-08-15 21:51:44.688  24083.64\n",
            "    Symbol                    Time     Price\n",
            "0  BTCUSDT 2022-08-15 21:51:44.782  24082.72\n",
            "    Symbol                    Time     Price\n",
            "0  BTCUSDT 2022-08-15 21:51:44.782  24082.72\n",
            "    Symbol                    Time     Price\n",
            "0  BTCUSDT 2022-08-15 21:51:44.832  24082.67\n",
            "    Symbol                    Time     Price\n",
            "0  BTCUSDT 2022-08-15 21:51:44.835  24083.63\n",
            "    Symbol                    Time     Price\n",
            "0  BTCUSDT 2022-08-15 21:51:45.224  24082.67\n",
            "    Symbol                    Time     Price\n",
            "0  BTCUSDT 2022-08-15 21:51:45.224  24082.67\n",
            "    Symbol                    Time     Price\n",
            "0  BTCUSDT 2022-08-15 21:51:45.259  24082.66\n",
            "    Symbol                    Time     Price\n",
            "0  BTCUSDT 2022-08-15 21:51:45.259  24082.66\n",
            "    Symbol                    Time     Price\n",
            "0  BTCUSDT 2022-08-15 21:51:45.259  24082.66\n",
            "    Symbol                    Time     Price\n",
            "0  BTCUSDT 2022-08-15 21:51:45.798  24082.67\n",
            "    Symbol                    Time     Price\n",
            "0  BTCUSDT 2022-08-15 21:51:45.801  24082.67\n",
            "    Symbol                    Time     Price\n",
            "0  BTCUSDT 2022-08-15 21:51:46.172  24082.73\n",
            "    Symbol                    Time     Price\n",
            "0  BTCUSDT 2022-08-15 21:51:46.172  24082.73\n",
            "    Symbol                    Time     Price\n",
            "0  BTCUSDT 2022-08-15 21:51:46.290  24082.74\n",
            "    Symbol                    Time     Price\n",
            "0  BTCUSDT 2022-08-15 21:51:46.300  24082.73\n",
            "    Symbol                    Time     Price\n",
            "0  BTCUSDT 2022-08-15 21:51:46.300  24082.66\n",
            "    Symbol                    Time     Price\n",
            "0  BTCUSDT 2022-08-15 21:51:46.300  24082.24\n",
            "    Symbol                    Time     Price\n",
            "0  BTCUSDT 2022-08-15 21:51:46.373  24082.24\n",
            "    Symbol                    Time     Price\n",
            "0  BTCUSDT 2022-08-15 21:51:46.496  24083.36\n",
            "    Symbol                    Time     Price\n",
            "0  BTCUSDT 2022-08-15 21:51:46.504  24083.36\n",
            "    Symbol                    Time     Price\n",
            "0  BTCUSDT 2022-08-15 21:51:46.505  24083.36\n",
            "    Symbol                    Time     Price\n",
            "0  BTCUSDT 2022-08-15 21:51:46.590  24082.24\n",
            "    Symbol                    Time     Price\n",
            "0  BTCUSDT 2022-08-15 21:51:46.590  24082.22\n",
            "    Symbol                    Time     Price\n",
            "0  BTCUSDT 2022-08-15 21:51:46.590  24082.22\n",
            "    Symbol                    Time     Price\n",
            "0  BTCUSDT 2022-08-15 21:51:46.592  24083.32\n",
            "    Symbol                    Time     Price\n",
            "0  BTCUSDT 2022-08-15 21:51:46.789  24082.34\n",
            "    Symbol                    Time     Price\n",
            "0  BTCUSDT 2022-08-15 21:51:46.848  24082.49\n",
            "    Symbol                    Time     Price\n",
            "0  BTCUSDT 2022-08-15 21:51:46.848  24082.33\n",
            "    Symbol                    Time     Price\n",
            "0  BTCUSDT 2022-08-15 21:51:46.917  24082.33\n",
            "    Symbol                    Time     Price\n",
            "0  BTCUSDT 2022-08-15 21:51:46.935  24082.33\n",
            "    Symbol                    Time     Price\n",
            "0  BTCUSDT 2022-08-15 21:51:46.986  24082.34\n",
            "    Symbol                    Time     Price\n",
            "0  BTCUSDT 2022-08-15 21:51:46.986  24082.33\n",
            "    Symbol                    Time     Price\n",
            "0  BTCUSDT 2022-08-15 21:51:46.986  24082.24\n",
            "    Symbol                    Time     Price\n",
            "0  BTCUSDT 2022-08-15 21:51:46.986  24082.24\n",
            "    Symbol                    Time     Price\n",
            "0  BTCUSDT 2022-08-15 21:51:46.986  24082.24\n",
            "    Symbol                    Time     Price\n",
            "0  BTCUSDT 2022-08-15 21:51:46.986  24082.24\n",
            "    Symbol                    Time     Price\n",
            "0  BTCUSDT 2022-08-15 21:51:46.986  24082.24\n",
            "    Symbol                    Time     Price\n",
            "0  BTCUSDT 2022-08-15 21:51:46.986  24082.24\n",
            "    Symbol                    Time     Price\n",
            "0  BTCUSDT 2022-08-15 21:51:46.986  24082.24\n",
            "    Symbol                    Time     Price\n",
            "0  BTCUSDT 2022-08-15 21:51:46.986  24082.24\n",
            "    Symbol                    Time     Price\n",
            "0  BTCUSDT 2022-08-15 21:51:46.986  24082.24\n",
            "    Symbol                    Time     Price\n",
            "0  BTCUSDT 2022-08-15 21:51:46.986  24082.24\n",
            "    Symbol                    Time     Price\n",
            "0  BTCUSDT 2022-08-15 21:51:46.986  24082.22\n",
            "    Symbol                    Time     Price\n",
            "0  BTCUSDT 2022-08-15 21:51:46.986  24082.21\n",
            "    Symbol                    Time     Price\n",
            "0  BTCUSDT 2022-08-15 21:51:46.999  24082.21\n",
            "    Symbol                    Time     Price\n",
            "0  BTCUSDT 2022-08-15 21:51:46.999  24082.21\n",
            "    Symbol                    Time     Price\n",
            "0  BTCUSDT 2022-08-15 21:51:46.999  24082.21\n",
            "    Symbol                    Time    Price\n",
            "0  BTCUSDT 2022-08-15 21:51:46.999  24082.2\n",
            "    Symbol                    Time    Price\n",
            "0  BTCUSDT 2022-08-15 21:51:46.999  24082.2\n",
            "    Symbol                    Time     Price\n",
            "0  BTCUSDT 2022-08-15 21:51:46.999  24082.19\n"
          ]
        }
      ]
    }
  ]
}